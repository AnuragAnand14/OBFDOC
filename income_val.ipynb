{
 "cells": [
  {
   "cell_type": "code",
   "execution_count": 1,
   "metadata": {},
   "outputs": [
    {
     "data": {
      "text/plain": [
       "True"
      ]
     },
     "execution_count": 1,
     "metadata": {},
     "output_type": "execute_result"
    }
   ],
   "source": [
    "from dotenv import load_dotenv\n",
    "import os \n",
    "load_dotenv('.env')"
   ]
  },
  {
   "cell_type": "code",
   "execution_count": 6,
   "metadata": {},
   "outputs": [],
   "source": [
    "import os\n",
    "import openai\n",
    "from PIL import Image\n",
    "import os\n",
    "import fitz\n",
    "import base64\n",
    "from io import BytesIO\n",
    "\n",
    "OPENAI_API_KEY = os.environ.get('OPENAI_API_KEY')\n",
    "openai.api_key = OPENAI_API_KEY\n",
    "os.environ[\"OPENAI_API_KEY\"] = OPENAI_API_KEY"
   ]
  },
  {
   "cell_type": "code",
   "execution_count": 165,
   "metadata": {},
   "outputs": [],
   "source": [
    "from datetime import datetime, timedelta\n",
    "from dateutil.relativedelta import relativedelta\n",
    "\n",
    "def is_date_less_than_two_months(date_str):\n",
    "    # Parse the input date string to a datetime object\n",
    "    try:\n",
    "        input_date = datetime.strptime(date_str, \"%Y-%m-%d\")\n",
    "    except ValueError:\n",
    "        return \"Invalid date format. Use YYYY-MM-DD.\"\n",
    "\n",
    "    # Get the current date\n",
    "    current_date = datetime.now()\n",
    "\n",
    "    # Calculate the date 2 months ago from the current date\n",
    "    two_months_ago = current_date - relativedelta(months=2)\n",
    "\n",
    "    # Check if the input date is less than 2 months ago\n",
    "    if input_date > two_months_ago:\n",
    "        return True\n",
    "    else:\n",
    "        return False\n",
    "\n",
    "def is_difference_at_least_sixty_days(date1_str, date2_str):\n",
    "    # Parse the input date strings to datetime objects\n",
    "    try:\n",
    "        date1 = datetime.strptime(date1_str, \"%Y-%m-%d\")\n",
    "        date2 = datetime.strptime(date2_str, \"%Y-%m-%d\")\n",
    "    except ValueError:\n",
    "        return \"Invalid date format. Use YYYY-MM-DD.\"\n",
    "\n",
    "    # Calculate the difference in days\n",
    "    difference = abs((date2 - date1).days)\n",
    "\n",
    "    # Check if the difference is at least 60 days\n",
    "    if difference >= 60:\n",
    "        return True\n",
    "    else:\n",
    "        return False"
   ]
  },
  {
   "cell_type": "code",
   "execution_count": 126,
   "metadata": {},
   "outputs": [],
   "source": [
    "from langchain_core.messages import HumanMessage\n",
    "from langchain_openai import ChatOpenAI\n",
    "from langchain_core.prompts import PromptTemplate\n",
    "from langchain_core.output_parsers import JsonOutputParser\n",
    "from langchain_core.output_parsers import PydanticOutputParser\n",
    "from langchain_community.document_loaders import PyPDFLoader\n",
    "from langchain.text_splitter import RecursiveCharacterTextSplitter\n",
    "\n",
    "model = ChatOpenAI(model=\"gpt-4o\")"
   ]
  },
  {
   "cell_type": "code",
   "execution_count": 111,
   "metadata": {},
   "outputs": [],
   "source": [
    "def convert_to_jpg(file_path):\n",
    "    _, ext = os.path.splitext(file_path)\n",
    "    ext = ext.lower()\n",
    "    def image_to_base64(image):\n",
    "        buffered = BytesIO()\n",
    "        image.save(buffered, format=\"JPEG\")\n",
    "        return base64.b64encode(buffered.getvalue()).decode(\"utf-8\")\n",
    "\n",
    "    # Convert PDF to JPG and return base64 encoding of the first page\n",
    "    if ext == '.pdf':\n",
    "        pdf_document = fitz.open(file_path)\n",
    "        page = pdf_document.load_page(0)  # Load the first page\n",
    "        pix = page.get_pixmap()\n",
    "        image = Image.frombytes(\"RGB\", [pix.width, pix.height], pix.samples)\n",
    "        return image_to_base64(image)\n",
    "\n",
    "    # Convert PNG or JPEG to JPG and return base64 encoding\n",
    "    if ext in ['.png', '.jpeg', '.jpg']:\n",
    "        image = Image.open(file_path)\n",
    "        rgb_image = image.convert('RGB')\n",
    "        return image_to_base64(rgb_image)"
   ]
  },
  {
   "cell_type": "code",
   "execution_count": 170,
   "metadata": {},
   "outputs": [],
   "source": [
    "from langchain_core.pydantic_v1 import BaseModel, Field\n",
    "class Payslip(BaseModel):\n",
    "    Verification: bool = Field(description=\"if Document Type is payslip return True\")\n",
    "    FirstName: str = Field(description=\"First Name in the name\")\n",
    "    LastName: str = Field(description=\"Last Name in the name\")\n",
    "    Date: str = Field(description= \"Date of the payslip\")\n",
    "\n",
    "    def has_empty_fields(self) -> bool:\n",
    "        for field_name, field_value in self.__dict__.items():\n",
    "            if field_value is None or (isinstance(field_value, str) and field_value.strip() == \"\"):\n",
    "                return True\n",
    "        return False\n",
    "\n"
   ]
  },
  {
   "cell_type": "code",
   "execution_count": 171,
   "metadata": {},
   "outputs": [],
   "source": [
    "def checkpayslip(file_path) :\n",
    "    image_data = convert_to_jpg(file_path)\n",
    "    message = HumanMessage(\n",
    "    content=[\n",
    "        {\"type\": \"text\", \"text\": \"Verify if the document type is a payslip. Give me Verification as a boolean, First Name, Last Name and date as YYYY-MM-DD in the image. Make the output passable to Json output parser \"},\n",
    "        {\n",
    "            \"type\": \"image_url\",\n",
    "            \"image_url\": {\"url\": f\"data:image/jpeg;base64,{image_data}\"},\n",
    "        },\n",
    "        ],\n",
    "    )\n",
    "    structured_model = model.with_structured_output(Payslip)\n",
    "    response = structured_model.invoke([message])\n",
    "    if response.Verification == False :\n",
    "        return \"Incorrect Document Uploaded\"\n",
    "    else :\n",
    "\n",
    "        if response.has_empty_fields() :\n",
    "            return \"reupload better image\"\n",
    "        \n",
    "        #logic for comparing given first and last name to db\n",
    "        return is_date_less_than_two_months(response.Date)"
   ]
  },
  {
   "cell_type": "code",
   "execution_count": 176,
   "metadata": {},
   "outputs": [],
   "source": [
    "class BankStatement(BaseModel):\n",
    "    Verification: bool = Field(description=\"Verification if document is a bank statement, True if it is\")\n",
    "    FirstName: str = Field(description=\"First Name in the name\")\n",
    "    LastName: str = Field(description=\"Last Name in the name\")\n",
    "    Firstdate: str = Field(description=\"date of the first transaction in the ledger in YYYY-MM-DD\")\n",
    "    Lastdate : str = Field(description=\"date of the last transaction in the ledger in YYYY-MM-DD\")\n",
    "\n",
    "    def has_empty_fields(self) -> bool:\n",
    "        for field_name, field_value in self.__dict__.items():\n",
    "            if field_value is None or (isinstance(field_value, str) and field_value.strip() == \"\"):\n",
    "                return True\n",
    "        return False"
   ]
  },
  {
   "cell_type": "code",
   "execution_count": 180,
   "metadata": {},
   "outputs": [],
   "source": [
    "def checkbankstatement(file_path) :\n",
    "    loader = PyPDFLoader(file_path)\n",
    "    pages = loader.load_and_split()\n",
    "    text = \" \".join(list(map(lambda page: page.page_content, pages)))\n",
    "    structured_model = model.with_structured_output(BankStatement)\n",
    "    response = structured_model.invoke(text)\n",
    "    if response.Verification == False :\n",
    "        return \"Incorrect Document Uploaded\"\n",
    "    else :\n",
    "        \n",
    "        if response.has_empty_fields() :\n",
    "            return \"reupload better image\"\n",
    "        \n",
    "        #logic for comparing given first and last name to db\n",
    "        return is_difference_at_least_sixty_days(response.Firstdate, response.Lastdate)\n"
   ]
  },
  {
   "cell_type": "code",
   "execution_count": 178,
   "metadata": {},
   "outputs": [],
   "source": [
    "file_path = '/Users/arjiv_admin/Desktop/OBF doc submission/bank_statement/3 Months Bank Statement.pdf'\n",
    "\n",
    "def parent_folder_process(file_path):\n",
    "    # Get the parent directory name\n",
    "    _, ext = os.path.splitext(file_path)\n",
    "    ext = ext.lower()\n",
    "\n",
    "    if ext not in ['.pdf', '.jpg', '.jpeg', '.png']:\n",
    "        return \"Incorrect file format\"\n",
    "    parent_folder_name = os.path.basename(os.path.dirname(file_path))\n",
    "    \n",
    "    # Check if the parent folder is 'payslip' or 'bank_statement'\n",
    "    if parent_folder_name == 'payslip':\n",
    "        return checkpayslip(file_path)\n",
    "    elif parent_folder_name == 'bank_statement':\n",
    "        return checkbankstatement(file_path)"
   ]
  },
  {
   "cell_type": "code",
   "execution_count": 181,
   "metadata": {},
   "outputs": [
    {
     "name": "stdout",
     "output_type": "stream",
     "text": [
      "True\n"
     ]
    }
   ],
   "source": [
    "print(parent_folder_process(file_path=file_path))"
   ]
  },
  {
   "cell_type": "code",
   "execution_count": null,
   "metadata": {},
   "outputs": [],
   "source": []
  }
 ],
 "metadata": {
  "kernelspec": {
   "display_name": "env",
   "language": "python",
   "name": "python3"
  },
  "language_info": {
   "codemirror_mode": {
    "name": "ipython",
    "version": 3
   },
   "file_extension": ".py",
   "mimetype": "text/x-python",
   "name": "python",
   "nbconvert_exporter": "python",
   "pygments_lexer": "ipython3",
   "version": "3.12.4"
  }
 },
 "nbformat": 4,
 "nbformat_minor": 2
}
