{
 "cells": [
  {
   "cell_type": "code",
   "execution_count": 2,
   "metadata": {},
   "outputs": [
    {
     "data": {
      "text/plain": [
       "True"
      ]
     },
     "execution_count": 2,
     "metadata": {},
     "output_type": "execute_result"
    }
   ],
   "source": [
    "from dotenv import load_dotenv\n",
    "import os \n",
    "load_dotenv('.env')"
   ]
  },
  {
   "cell_type": "code",
   "execution_count": 3,
   "metadata": {},
   "outputs": [],
   "source": [
    "import os\n",
    "import openai\n",
    "\n",
    "OPENAI_API_KEY = os.environ.get('OPENAI_API_KEY')\n",
    "openai.api_key = OPENAI_API_KEY\n",
    "os.environ[\"OPENAI_API_KEY\"] = OPENAI_API_KEY"
   ]
  },
  {
   "cell_type": "code",
   "execution_count": 4,
   "metadata": {},
   "outputs": [],
   "source": [
    "from langchain_core.messages import HumanMessage\n",
    "from langchain_openai import ChatOpenAI\n",
    "from langchain_core.prompts import PromptTemplate\n",
    "from langchain_core.output_parsers import JsonOutputParser\n",
    "\n",
    "model = ChatOpenAI(model=\"gpt-4o\")"
   ]
  },
  {
   "cell_type": "code",
   "execution_count": 5,
   "metadata": {},
   "outputs": [],
   "source": [
    "import base64\n",
    "\n",
    "def encode_image(image_path):\n",
    "  with open(image_path, \"rb\") as image_file:\n",
    "    return base64.b64encode(image_file.read()).decode('utf-8')\n",
    "  \n"
   ]
  },
  {
   "cell_type": "code",
   "execution_count": 8,
   "metadata": {},
   "outputs": [],
   "source": [
    "image_path = '/Users/arjiv_admin/Desktop/OBF doc submission/dummy docs/6087fef0c496d455e4741fb4_Payslip-XM-Blue.jpg'\n",
    "\n",
    "image_data = encode_image(image_path)"
   ]
  },
  {
   "cell_type": "code",
   "execution_count": 9,
   "metadata": {},
   "outputs": [
    {
     "name": "stdout",
     "output_type": "stream",
     "text": [
      "{'document_type': 'payslip', 'company_details': 'Jolly Little Co Limited, Unit 12, The Industrial Estate, Nice Town, Gorgeous County, PE76 9HU', 'employee_id': '12345', 'employee_name': 'Sally James', 'date': '31/03/2021', 'ni_number': 'NH000000F', 'payments': [{'description': 'Salary', 'units': 1.0, 'rate': 2000.0, 'amount': 2000.0}], 'this_period': {'period_pay': 2000.0, 'paye_tax': 176.72, 'nat_insurance': 145.0, 'pension_ee': 74.4, 'pension_er': 44.64}, 'year_to_date': {'ytd_pay': 24000.0, 'paye_tax': 2120.64, 'nat_insurance': 1740.0, 'pension_ee': 892.8, 'pension_er': 535.68}, 'employers_ni': {'this_period': 166.75, 'year_to_date': 2001.0}, 'employee_address': {'line_1': 'Sally James', 'line_2': 'Flat 5, The Big House', 'line_3': 'Long Street', 'line_4': 'Nice Town', 'county': 'Gorgeous County', 'postcode': 'PE77 1PQ'}, 'pay_method': 'Bank', 'period_number': 12, 'pay_period': 'Month', 'tax_code': '1250L', 'net_pay': 1603.88}\n"
     ]
    }
   ],
   "source": [
    "message = HumanMessage(\n",
    "    content=[\n",
    "        {\"type\": \"text\", \"text\": \"give me key value pairs of all data in the image, add the type of document in the key value pairs. Answer only the key value pairs supported by JSON Output Parser\"},\n",
    "        {\n",
    "            \"type\": \"image_url\",\n",
    "            \"image_url\": {\"url\": f\"data:image/jpeg;base64,{image_data}\"},\n",
    "        },\n",
    "    ],\n",
    ")\n",
    "response = model.invoke([message])\n",
    "parser = JsonOutputParser()\n",
    "parsed_response = parser.parse(response.content)\n",
    "print(parsed_response)"
   ]
  }
 ],
 "metadata": {
  "kernelspec": {
   "display_name": "env",
   "language": "python",
   "name": "python3"
  },
  "language_info": {
   "codemirror_mode": {
    "name": "ipython",
    "version": 3
   },
   "file_extension": ".py",
   "mimetype": "text/x-python",
   "name": "python",
   "nbconvert_exporter": "python",
   "pygments_lexer": "ipython3",
   "version": "3.12.4"
  }
 },
 "nbformat": 4,
 "nbformat_minor": 2
}
